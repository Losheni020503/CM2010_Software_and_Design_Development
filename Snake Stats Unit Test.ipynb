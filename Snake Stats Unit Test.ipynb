{
 "cells": [
  {
   "cell_type": "markdown",
   "id": "13173f9f",
   "metadata": {},
   "source": [
    "<h1><center>Part 2 Unit Testing using Snakestats</center></h1>"
   ]
  },
  {
   "cell_type": "markdown",
   "id": "896cd541",
   "metadata": {},
   "source": [
    "# Test  Set 1 \n",
    "## For the first set, I'm going to use a series of numbers to calculate the variance of these numbers."
   ]
  },
  {
   "cell_type": "markdown",
   "id": "55e5ac18",
   "metadata": {},
   "source": [
    "### Test Set 1, Test 1"
   ]
  },
  {
   "cell_type": "code",
   "execution_count": 1,
   "id": "eb58ef99",
   "metadata": {},
   "outputs": [
    {
     "name": "stderr",
     "output_type": "stream",
     "text": [
      "test_getVariance (__main__.TestForSnakeStats) ... ok\n",
      "\n",
      "----------------------------------------------------------------------\n",
      "Ran 1 test in 0.008s\n",
      "\n",
      "OK\n"
     ]
    },
    {
     "data": {
      "text/plain": [
       "<unittest.main.TestProgram at 0x1d44fc1ab30>"
      ]
     },
     "execution_count": 1,
     "metadata": {},
     "output_type": "execute_result"
    }
   ],
   "source": [
    "import unittest \n",
    "import snakestats\n",
    "\n",
    "class TestForSnakeStats(unittest.TestCase):\n",
    "\n",
    "    def test_getVariance(self):\n",
    "        theVariance = snakestats.getVariance([10,20,30])\n",
    "        self.assertEqual(theVariance, 66.66666666666667)\n",
    "\n",
    "        \n",
    "unittest.main(argv=['ignored','-v'], exit=False)"
   ]
  },
  {
   "cell_type": "markdown",
   "id": "f66ce619",
   "metadata": {},
   "source": [
    "### For the first test , I used 3 simple numbers to produce the variance output : 66.66666666666667"
   ]
  },
  {
   "cell_type": "markdown",
   "id": "e450fe5b",
   "metadata": {},
   "source": [
    "### Test Set 1 , Test 2"
   ]
  },
  {
   "cell_type": "code",
   "execution_count": 2,
   "id": "d5881b86",
   "metadata": {},
   "outputs": [
    {
     "name": "stderr",
     "output_type": "stream",
     "text": [
      "test_getVariance (__main__.TestForSnakeStats) ... ok\n",
      "\n",
      "----------------------------------------------------------------------\n",
      "Ran 1 test in 0.005s\n",
      "\n",
      "OK\n"
     ]
    },
    {
     "data": {
      "text/plain": [
       "<unittest.main.TestProgram at 0x1d44fbddc90>"
      ]
     },
     "execution_count": 2,
     "metadata": {},
     "output_type": "execute_result"
    }
   ],
   "source": [
    "import unittest \n",
    "import snakestats\n",
    "\n",
    "class TestForSnakeStats(unittest.TestCase):\n",
    "\n",
    "    def test_getVariance(self):\n",
    "        theVariance = snakestats.getVariance([234,353,457,589,789])\n",
    "        self.assertEqual(theVariance, 36887.840000000004)\n",
    "\n",
    "        \n",
    "unittest.main(argv=['ignored','-v'], exit=False)"
   ]
  },
  {
   "cell_type": "markdown",
   "id": "4491ff64",
   "metadata": {},
   "source": [
    "### For the second test , I used a larger set of numbers (5) and slightly bigger numbers to check if the output is the variance : 36887.840000000004"
   ]
  },
  {
   "cell_type": "markdown",
   "id": "a3aea31f",
   "metadata": {},
   "source": [
    "### Test Set 1 , Test 3"
   ]
  },
  {
   "cell_type": "code",
   "execution_count": 3,
   "id": "e490ee0f",
   "metadata": {},
   "outputs": [
    {
     "name": "stderr",
     "output_type": "stream",
     "text": [
      "test_getVariance (__main__.TestForSnakeStats) ... ok\n",
      "\n",
      "----------------------------------------------------------------------\n",
      "Ran 1 test in 0.004s\n",
      "\n",
      "OK\n"
     ]
    },
    {
     "data": {
      "text/plain": [
       "<unittest.main.TestProgram at 0x1d44fc1b610>"
      ]
     },
     "execution_count": 3,
     "metadata": {},
     "output_type": "execute_result"
    }
   ],
   "source": [
    "import unittest \n",
    "import snakestats\n",
    "\n",
    "class TestForSnakeStats(unittest.TestCase):\n",
    "\n",
    "    def test_getVariance(self):\n",
    "        theVariance = snakestats.getVariance([2347,3457,5675,6579,7569,8767,9794])\n",
    "        self.assertEqual(theVariance, 6297243.3877551025)\n",
    "\n",
    "        \n",
    "unittest.main(argv=['ignored','-v'], exit=False)"
   ]
  },
  {
   "cell_type": "markdown",
   "id": "0fb0075f",
   "metadata": {},
   "source": [
    "### For the last test, I used 7 numbers and a even bigger value of numbers to produce the expected output : 6297243.3877551025"
   ]
  },
  {
   "cell_type": "markdown",
   "id": "8478bed7",
   "metadata": {},
   "source": [
    "# Test Set 2\n",
    "## For the second set , I calaculated the median in a series of numbers ( odd set of numbers)"
   ]
  },
  {
   "cell_type": "markdown",
   "id": "5f33ab92",
   "metadata": {},
   "source": [
    "### Test Set 2 , Test 1"
   ]
  },
  {
   "cell_type": "code",
   "execution_count": 4,
   "id": "7811cc88",
   "metadata": {},
   "outputs": [
    {
     "name": "stderr",
     "output_type": "stream",
     "text": [
      "test_getMedian (__main__.TestForSnakeStats) ... ok\n",
      "\n",
      "----------------------------------------------------------------------\n",
      "Ran 1 test in 0.003s\n",
      "\n",
      "OK\n"
     ]
    },
    {
     "data": {
      "text/plain": [
       "<unittest.main.TestProgram at 0x1d44fceb9a0>"
      ]
     },
     "execution_count": 4,
     "metadata": {},
     "output_type": "execute_result"
    }
   ],
   "source": [
    "import unittest \n",
    "import snakestats\n",
    "\n",
    "class TestForSnakeStats(unittest.TestCase):\n",
    "\n",
    "    def test_getMedian(self):\n",
    "        theMedian = snakestats.getMedian([10,20,30])\n",
    "        self.assertEqual(theMedian, 20)\n",
    "\n",
    "        \n",
    "unittest.main(argv=['ignored','-v'], exit=False)"
   ]
  },
  {
   "cell_type": "markdown",
   "id": "1a20ac11",
   "metadata": {},
   "source": [
    "### I choose 3 simple numbers for the first set , and the test passed when the middle number ( 20 ) is the output."
   ]
  },
  {
   "cell_type": "markdown",
   "id": "0af9e719",
   "metadata": {},
   "source": [
    "### Test Set 2, Test 2"
   ]
  },
  {
   "cell_type": "code",
   "execution_count": 5,
   "id": "1cb1969c",
   "metadata": {
    "scrolled": true
   },
   "outputs": [
    {
     "name": "stderr",
     "output_type": "stream",
     "text": [
      "test_getMedian (__main__.TestForSnakeStats) ... ok\n",
      "\n",
      "----------------------------------------------------------------------\n",
      "Ran 1 test in 0.003s\n",
      "\n",
      "OK\n"
     ]
    },
    {
     "data": {
      "text/plain": [
       "<unittest.main.TestProgram at 0x1d44fc1be50>"
      ]
     },
     "execution_count": 5,
     "metadata": {},
     "output_type": "execute_result"
    }
   ],
   "source": [
    "import unittest \n",
    "import snakestats\n",
    "\n",
    "class TestForSnakeStats(unittest.TestCase):\n",
    "\n",
    "    def test_getMedian(self):\n",
    "        theMedian = snakestats.getMedian([100,200,300,400,500])\n",
    "        self.assertEqual(theMedian, 300)\n",
    "\n",
    "        \n",
    "unittest.main(argv=['ignored','-v'], exit=False)"
   ]
  },
  {
   "cell_type": "markdown",
   "id": "37b5d3e7",
   "metadata": {},
   "source": [
    "### I choose 5 numbers in the 100s for the second set , and the test passed when the middle number ( 300 ) is the output."
   ]
  },
  {
   "cell_type": "markdown",
   "id": "7ceff8ec",
   "metadata": {},
   "source": [
    "### Test Set 2, Test 3"
   ]
  },
  {
   "cell_type": "code",
   "execution_count": 6,
   "id": "742f53f6",
   "metadata": {},
   "outputs": [
    {
     "name": "stderr",
     "output_type": "stream",
     "text": [
      "test_getMedian (__main__.TestForSnakeStats) ... ok\n",
      "\n",
      "----------------------------------------------------------------------\n",
      "Ran 1 test in 0.004s\n",
      "\n",
      "OK\n"
     ]
    },
    {
     "data": {
      "text/plain": [
       "<unittest.main.TestProgram at 0x1d44fce91e0>"
      ]
     },
     "execution_count": 6,
     "metadata": {},
     "output_type": "execute_result"
    }
   ],
   "source": [
    "import unittest \n",
    "import snakestats\n",
    "\n",
    "class TestForSnakeStats(unittest.TestCase):\n",
    "\n",
    "    def test_getMedian(self):\n",
    "        theMedian = snakestats.getMedian([1000,2000,3000,4000,5000,6000,7000])\n",
    "        self.assertEqual(theMedian, 4000)\n",
    "\n",
    "        \n",
    "unittest.main(argv=['ignored','-v'], exit=False)"
   ]
  },
  {
   "cell_type": "markdown",
   "id": "83870bc8",
   "metadata": {},
   "source": [
    "### I choose 7 bigger numbers ( numbers in their 1000 series)  for the last set , and the test passed when the middle number (4000 ) is the output."
   ]
  },
  {
   "cell_type": "markdown",
   "id": "1326c31a",
   "metadata": {},
   "source": [
    "# Test Set 3\n",
    "## For the last set, I calculated the mode ( the numbers which appear the most amount of times in a set of numbers) . I used set of 3,5 & 7 numbers"
   ]
  },
  {
   "cell_type": "markdown",
   "id": "3adfdc2e",
   "metadata": {},
   "source": [
    "### Test Set 3, Test 1"
   ]
  },
  {
   "cell_type": "code",
   "execution_count": 7,
   "id": "bda42f47",
   "metadata": {},
   "outputs": [
    {
     "name": "stderr",
     "output_type": "stream",
     "text": [
      "test_getMode (__main__.TestForSnakeStats) ... ok\n",
      "\n",
      "----------------------------------------------------------------------\n",
      "Ran 1 test in 0.003s\n",
      "\n",
      "OK\n"
     ]
    },
    {
     "data": {
      "text/plain": [
       "<unittest.main.TestProgram at 0x1d44fceb8e0>"
      ]
     },
     "execution_count": 7,
     "metadata": {},
     "output_type": "execute_result"
    }
   ],
   "source": [
    "import unittest \n",
    "import snakestats\n",
    "\n",
    "class TestForSnakeStats(unittest.TestCase):\n",
    "\n",
    "    def test_getMode(self):\n",
    "        theMode = snakestats.getMode([10,20,20])\n",
    "        self.assertEqual(theMode, [20])\n",
    "\n",
    "        \n",
    "unittest.main(argv=['ignored','-v'], exit=False)"
   ]
  },
  {
   "cell_type": "markdown",
   "id": "569b8db7",
   "metadata": {},
   "source": [
    "### For test 1 , I used 3 simple numbers ( set of 3 numbers ) anad calculated the numbers which appeared 2 x which is 20"
   ]
  },
  {
   "cell_type": "markdown",
   "id": "1f35a8ab",
   "metadata": {},
   "source": [
    "### Test Set 3, Test 2"
   ]
  },
  {
   "cell_type": "code",
   "execution_count": 8,
   "id": "e3b00c35",
   "metadata": {},
   "outputs": [
    {
     "name": "stderr",
     "output_type": "stream",
     "text": [
      "test_getMode (__main__.TestForSnakeStats) ... ok\n",
      "\n",
      "----------------------------------------------------------------------\n",
      "Ran 1 test in 0.003s\n",
      "\n",
      "OK\n"
     ]
    },
    {
     "data": {
      "text/plain": [
       "<unittest.main.TestProgram at 0x1d44fceb7f0>"
      ]
     },
     "execution_count": 8,
     "metadata": {},
     "output_type": "execute_result"
    }
   ],
   "source": [
    "import unittest \n",
    "import snakestats\n",
    "\n",
    "class TestForSnakeStats(unittest.TestCase):\n",
    "\n",
    "    def test_getMode(self):\n",
    "        theMode = snakestats.getMode([200,300,300,300,400])\n",
    "        self.assertEqual(theMode, [300])\n",
    "\n",
    "        \n",
    "unittest.main(argv=['ignored','-v'], exit=False)"
   ]
  },
  {
   "cell_type": "markdown",
   "id": "885e698e",
   "metadata": {},
   "source": [
    "### For test 2 , I used 3 numbers in their 100s ( set of 5 numbers ) anad calculated the numbers which appeared 3 x which is 300"
   ]
  },
  {
   "cell_type": "markdown",
   "id": "b57da900",
   "metadata": {},
   "source": [
    "### Test Set 3, Test 3"
   ]
  },
  {
   "cell_type": "code",
   "execution_count": 9,
   "id": "2b4ac1b3",
   "metadata": {},
   "outputs": [
    {
     "name": "stderr",
     "output_type": "stream",
     "text": [
      "test_getMode (__main__.TestForSnakeStats) ... ok\n",
      "\n",
      "----------------------------------------------------------------------\n",
      "Ran 1 test in 0.003s\n",
      "\n",
      "OK\n"
     ]
    },
    {
     "data": {
      "text/plain": [
       "<unittest.main.TestProgram at 0x1d44fcea3b0>"
      ]
     },
     "execution_count": 9,
     "metadata": {},
     "output_type": "execute_result"
    }
   ],
   "source": [
    "import unittest \n",
    "import snakestats\n",
    "\n",
    "class TestForSnakeStats(unittest.TestCase):\n",
    "\n",
    "    def test_getMode(self):\n",
    "        theMode = snakestats.getMode([1000,2000,3000,4000,4000,4000,4000])\n",
    "        self.assertEqual(theMode, [4000])\n",
    "\n",
    "        \n",
    "unittest.main(argv=['ignored','-v'], exit=False)"
   ]
  },
  {
   "cell_type": "markdown",
   "id": "b27ce456",
   "metadata": {},
   "source": [
    "### For the last test , I used 7 bigger numbers ( set of 7 numbers ) and calculated the numbers which appeared 4 x which is 4000"
   ]
  }
 ],
 "metadata": {
  "kernelspec": {
   "display_name": "Python 3 (ipykernel)",
   "language": "python",
   "name": "python3"
  },
  "language_info": {
   "codemirror_mode": {
    "name": "ipython",
    "version": 3
   },
   "file_extension": ".py",
   "mimetype": "text/x-python",
   "name": "python",
   "nbconvert_exporter": "python",
   "pygments_lexer": "ipython3",
   "version": "3.10.9"
  }
 },
 "nbformat": 4,
 "nbformat_minor": 5
}
